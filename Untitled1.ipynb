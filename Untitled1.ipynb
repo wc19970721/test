{
  "nbformat": 4,
  "nbformat_minor": 0,
  "metadata": {
    "colab": {
      "name": "Untitled1.ipynb",
      "private_outputs": true,
      "provenance": [],
      "collapsed_sections": [],
      "authorship_tag": "ABX9TyN73Sbcvey2lnz1kroIzF9l",
      "include_colab_link": true
    },
    "kernelspec": {
      "name": "python3",
      "display_name": "Python 3"
    },
    "language_info": {
      "name": "python"
    },
    "accelerator": "GPU"
  },
  "cells": [
    {
      "cell_type": "markdown",
      "metadata": {
        "id": "view-in-github",
        "colab_type": "text"
      },
      "source": [
        "<a href=\"https://colab.research.google.com/github/wc19970721/test/blob/master/Untitled1.ipynb\" target=\"_parent\"><img src=\"https://colab.research.google.com/assets/colab-badge.svg\" alt=\"Open In Colab\"/></a>"
      ]
    },
    {
      "cell_type": "code",
      "metadata": {
        "id": "_Z-A9BaeimhD"
      },
      "source": [
        "price_str=input(\"单价：\")\n",
        "weight_str=input(\"数量：\")\n",
        "price=float(price_str)\n",
        "weight=float(weight_str)\n",
        "money=price*weight\n",
        "print(money)\n"
      ],
      "execution_count": null,
      "outputs": []
    },
    {
      "cell_type": "code",
      "metadata": {
        "id": "QCPXapYYMm9L"
      },
      "source": [
        "import numpy as np\n",
        "from matplotlib import pyplot as plt\n",
        "\n",
        "ys = 200 + np.random.randn(100)\n",
        "x = [x for x in range(len(ys))]\n",
        "\n",
        "plt.plot(x, ys, '-')\n",
        "plt.fill_between(x, ys, 195, where=(ys > 195), facecolor='g', alpha=0.6)\n",
        "\n",
        "plt.title(\"Sample Visualization\")\n",
        "plt.show()"
      ],
      "execution_count": null,
      "outputs": []
    },
    {
      "cell_type": "code",
      "metadata": {
        "id": "nFfTOlHjmuaC"
      },
      "source": [
        "price=float(input(\"单价：\"))\n",
        "weight=float(input(\"重量：\"))\n",
        "money=price*weight\n",
        "print(money)"
      ],
      "execution_count": null,
      "outputs": []
    },
    {
      "cell_type": "code",
      "metadata": {
        "id": "K7OrL757n3vL"
      },
      "source": [
        "name=\"小米\"\n",
        "age=19\n",
        "student_no=4502204\n",
        "price=10\n",
        "weight=2.5\n",
        "money=price*weight\n",
        "scale=10\n",
        "print(\"姓名：%s\" % name)\n",
        "print(\"年龄：%d\" % age)\n",
        "print(\"学号：%d\" %student_no)\n",
        "print(\"苹果单价：%.02f.购买 %.02f斤，需要支付%.02f元\" %(price,weight,money) )\n",
        "print(\"数据比例是：%.02f%%\" %scale)\n"
      ],
      "execution_count": null,
      "outputs": []
    },
    {
      "cell_type": "code",
      "metadata": {
        "id": "ibxM28ZwsnYb"
      },
      "source": [
        "print(\"姓名：%s\" )\n",
        "print(\"年龄：%d\" )\n",
        "print(\"学号：%06d\")\n",
        "print(\"苹果单价：%.02f.购买 %.02f斤，需要支付%.02f元\"  )\n",
        "print(\"数据比例是：%.02f%%\" )\n"
      ],
      "execution_count": null,
      "outputs": []
    },
    {
      "cell_type": "code",
      "metadata": {
        "id": "dM8FWfgWutdX"
      },
      "source": [
        "\n",
        "\n",
        "\n",
        "company=input(\"请输入公司名字：\")\n",
        "name=input(\"请输入本人姓名：\")\n",
        "title=input(\"请输入职位：\")\n",
        "phone=input(\"请输入电话：\")\n",
        "email=input(\"请输入电子邮箱:\")\n",
        "\n",
        "\n",
        "\n",
        "print(\"*\"*30)\n",
        "print(\"公司名称：%s\\n\"%company)\n",
        "print(\"姓名：%s(职位%s）\\n\"%(name,title))\n",
        "print(\"电话：%s\"%phone)\n",
        "print(\"邮箱：%s\"%email)\n",
        "print(\"*\"*30)"
      ],
      "execution_count": null,
      "outputs": []
    },
    {
      "cell_type": "code",
      "metadata": {
        "id": "3ey34rXPEUTI"
      },
      "source": [
        ""
      ],
      "execution_count": null,
      "outputs": []
    },
    {
      "cell_type": "markdown",
      "metadata": {
        "id": "Hczri8IWkaU2"
      },
      "source": [
        "**加粗文字**# 新段落"
      ]
    },
    {
      "cell_type": "code",
      "metadata": {
        "id": "1IRaAn5kALqw"
      },
      "source": [
        "age=int(input(\"年龄\"))"
      ],
      "execution_count": null,
      "outputs": []
    },
    {
      "cell_type": "code",
      "metadata": {
        "id": "dFpz4zFDTtp8"
      },
      "source": [
        "pip config set global.index-url https://pypi.tuna.tsinghua.edu.cn/simple"
      ],
      "execution_count": null,
      "outputs": []
    },
    {
      "cell_type": "code",
      "metadata": {
        "id": "W1zbNUviaXsg"
      },
      "source": [
        "x = torch.Tensor(5, 3)\n",
        "print(x)"
      ],
      "execution_count": null,
      "outputs": []
    },
    {
      "cell_type": "code",
      "metadata": {
        "id": "2dAQV7VCh8uu"
      },
      "source": [
        "!pip install torch\n",
        "!pip install torchtext\n",
        "!pip install torchvision"
      ],
      "execution_count": null,
      "outputs": []
    },
    {
      "cell_type": "code",
      "metadata": {
        "id": "2putdRU8jK0X"
      },
      "source": [
        "import torch\n",
        "import torchvision\n",
        "print(torch.cuda.is_available())"
      ],
      "execution_count": null,
      "outputs": []
    },
    {
      "cell_type": "code",
      "metadata": {
        "id": "Wkn-tYt6jRKV"
      },
      "source": [
        "pip install mxnet"
      ],
      "execution_count": null,
      "outputs": []
    },
    {
      "cell_type": "code",
      "metadata": {
        "id": "CknNf-2EkAil"
      },
      "source": [
        "from mxnet import nd\n",
        "\n"
      ],
      "execution_count": null,
      "outputs": []
    },
    {
      "cell_type": "code",
      "metadata": {
        "id": "rMM1c8JOkL6l"
      },
      "source": [
        "x = nd.arange(12)\n",
        "x"
      ],
      "execution_count": null,
      "outputs": []
    },
    {
      "cell_type": "code",
      "metadata": {
        "id": "tBeSWGwct4gd"
      },
      "source": [
        "X = x.reshape((3, 4))\n",
        "X\n"
      ],
      "execution_count": null,
      "outputs": []
    },
    {
      "cell_type": "code",
      "metadata": {
        "id": "JbURKUiEyTDp"
      },
      "source": [
        "nd.zeros((2, 3, 4))"
      ],
      "execution_count": null,
      "outputs": []
    },
    {
      "cell_type": "code",
      "metadata": {
        "id": "2LpdcPMxvz6s"
      },
      "source": [
        " nd.ones((3, 4))"
      ],
      "execution_count": null,
      "outputs": []
    },
    {
      "cell_type": "code",
      "metadata": {
        "id": "EzVbMatNy0dw"
      },
      "source": [
        "Y = nd.array([[2, 1, 4, 3], [1, 2, 3, 4], [4, 3, 2, 1]])\n",
        "Y"
      ],
      "execution_count": null,
      "outputs": []
    },
    {
      "cell_type": "code",
      "metadata": {
        "id": "P02Re9450d8h"
      },
      "source": [
        "nd.random.normal(0, 1, shape=(3, 4))"
      ],
      "execution_count": null,
      "outputs": []
    },
    {
      "cell_type": "code",
      "metadata": {
        "id": "3i-tPyXY27F1"
      },
      "source": [
        "X+Y"
      ],
      "execution_count": null,
      "outputs": []
    },
    {
      "cell_type": "code",
      "metadata": {
        "id": "P3hSQEjN3AsG"
      },
      "source": [
        "X*Y"
      ],
      "execution_count": null,
      "outputs": []
    },
    {
      "cell_type": "code",
      "metadata": {
        "id": "jhjp2yqz3Ixy"
      },
      "source": [
        "nd.concat(X, Y, dim=0), nd.concat(X, Y, dim=1)"
      ],
      "execution_count": null,
      "outputs": []
    },
    {
      "cell_type": "code",
      "metadata": {
        "id": "auEUooF55ipg"
      },
      "source": [
        "X == Y"
      ],
      "execution_count": null,
      "outputs": []
    },
    {
      "cell_type": "code",
      "metadata": {
        "id": "CxSvqqi06k1Q"
      },
      "source": [
        "X.sum()\n"
      ],
      "execution_count": null,
      "outputs": []
    },
    {
      "cell_type": "code",
      "metadata": {
        "id": "Q3hPAVhj7Bd2"
      },
      "source": [
        "X[1, 2] = 9\n",
        "X"
      ],
      "execution_count": null,
      "outputs": []
    },
    {
      "cell_type": "code",
      "metadata": {
        "id": "HdRLuVYm_hm3"
      },
      "source": [
        " #X[1:2, :] = 12\n",
        "X"
      ],
      "execution_count": null,
      "outputs": []
    },
    {
      "cell_type": "code",
      "metadata": {
        "id": "xz0Jx8cxBMTM"
      },
      "source": [
        "X = nd.array([[ 0,1,2, 3],[ 4,  5,  9,  7],[ 8,  9, 10, 11,]])\n",
        "X"
      ],
      "execution_count": null,
      "outputs": []
    },
    {
      "cell_type": "code",
      "metadata": {
        "id": "WgcC0S-jCc9l"
      },
      "source": [
        "X[1:2, :] = 12\n",
        "X"
      ],
      "execution_count": null,
      "outputs": []
    },
    {
      "cell_type": "code",
      "metadata": {
        "id": "RGbqWo2eCgoD"
      },
      "source": [
        "before = id(Y)\n",
        "Y = Y + X\n",
        "id(Y) == before"
      ],
      "execution_count": null,
      "outputs": []
    }
  ]
}