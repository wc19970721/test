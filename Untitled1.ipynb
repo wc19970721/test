{
  "nbformat": 4,
  "nbformat_minor": 0,
  "metadata": {
    "colab": {
      "name": "Untitled1.ipynb",
      "provenance": [],
      "authorship_tag": "ABX9TyOfspgzq9xorNE1o+/zU21V",
      "include_colab_link": true
    },
    "kernelspec": {
      "name": "python3",
      "display_name": "Python 3"
    },
    "language_info": {
      "name": "python"
    }
  },
  "cells": [
    {
      "cell_type": "markdown",
      "metadata": {
        "id": "view-in-github",
        "colab_type": "text"
      },
      "source": [
        "<a href=\"https://colab.research.google.com/github/wc19970721/test/blob/master/Untitled1.ipynb\" target=\"_parent\"><img src=\"https://colab.research.google.com/assets/colab-badge.svg\" alt=\"Open In Colab\"/></a>"
      ]
    },
    {
      "cell_type": "code",
      "metadata": {
        "colab": {
          "base_uri": "https://localhost:8080/",
          "height": 130
        },
        "id": "_Z-A9BaeimhD",
        "outputId": "22dd8d56-27ee-47df-ec4b-2891b6077d6c"
      },
      "source": [
        "images = image.load_img(\"\", target_size=(28, 28))    \n",
        "x = image.img_to_array(images)\n",
        "x = tf.image.rgb_to_grayscale(x)\n",
        "x = np.expand_dims(x, axis=0)\n",
        "x = x/255.0\n",
        "\n",
        "model = tf.keras.models.load_model('num_reader.model')\n",
        "model.predict(x)"
      ],
      "execution_count": 1,
      "outputs": [
        {
          "output_type": "error",
          "ename": "SyntaxError",
          "evalue": "ignored",
          "traceback": [
            "\u001b[0;36m  File \u001b[0;32m\"<ipython-input-1-39cab467ea2a>\"\u001b[0;36m, line \u001b[0;32m1\u001b[0m\n\u001b[0;31m    images = image.load_img(\"C:\\Users\\a\\Pictures\\Camera Roll\\10b4b1204b8f23a50a8b3ad8db0551b5.png\", target_size=(28, 28))\u001b[0m\n\u001b[0m                           ^\u001b[0m\n\u001b[0;31mSyntaxError\u001b[0m\u001b[0;31m:\u001b[0m (unicode error) 'unicodeescape' codec can't decode bytes in position 2-3: truncated \\UXXXXXXXX escape\n"
          ]
        }
      ]
    },
    {
      "cell_type": "markdown",
      "metadata": {
        "id": "Hczri8IWkaU2"
      },
      "source": [
        "# 新段落"
      ]
    }
  ]
}